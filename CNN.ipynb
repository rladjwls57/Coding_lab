{
  "nbformat": 4,
  "nbformat_minor": 0,
  "metadata": {
    "colab": {
      "provenance": []
    },
    "kernelspec": {
      "name": "python3",
      "display_name": "Python 3"
    },
    "language_info": {
      "name": "python"
    }
  },
  "cells": [
    {
      "cell_type": "code",
      "execution_count": 2,
      "metadata": {
        "id": "dPFYtfO0tEtw"
      },
      "outputs": [],
      "source": [
        "import torch\n",
        "import torch.nn as nn\n",
        "\n",
        "class BasicBlock(nn.Module):\n",
        "  def __init__(self, in_channels, out_channels, hidden_dim):\n",
        "    super(BasicBlock, self).__init__()\n",
        "\n",
        "    self.conv1 = nn.Conv2d(in_channels, hidden_dim, kernel_size=3, padding=1)\n",
        "    self.conv2 = nn.Conv2d(hidden_dim, out_channels, kernel_size=3, padding=1)\n",
        "    self.relu = nn.ReLU()\n",
        "\n",
        "    self.pool = nn.ManPool2d(kernel_size=2, stride=2)\n",
        "\n",
        "  def forward(self, x):\n",
        "    x = self.conv1(x)\n",
        "    x = self.relu(x)\n",
        "    x = self.conv2(x)\n",
        "    x = self.relu(x)\n",
        "    x = self.pool(x)\n",
        "\n",
        "    return x"
      ]
    },
    {
      "cell_type": "code",
      "source": [
        "class CNN(nn.Module):\n",
        "  def __init__(self, num_classes):\n",
        "    super(CNN, self).__init__()\n",
        "\n",
        "    self.block1 = BasicBlock(in_channels=3, out_channels = 32, hidden_dim = 16)\n",
        "    self.block2 = BasicBlock(in_channels=32, out_channels=128, hidden_dim=64)\n",
        "    self.block3 = BasicBlock(in_channels=128, out_channles=256, hidden_dim=128)\n",
        "\n",
        "    self.fc1 = nn.Linear(in_features=4096, out_features=2048)\n",
        "    self.fc2 = nn.Linear(in_features=2048, out_features=256)\n",
        "    self.fc3 = nn.Linear(in_features=256, out_features=num_classes)\n",
        "\n",
        "    self.relu = nn.ReLU()\n",
        "\n",
        "  def forward(self, x):\n",
        "    x = self.block1(x)\n",
        "    x = self.block2(x)\n",
        "    x = self.block3(x)\n",
        "    x = torch.flatten(x, start_dim=1)\n",
        "\n",
        "    x = self.fc1(x)\n",
        "    x = self.relu()\n",
        "    x = self.fc2(x)\n",
        "    x = self.relu()\n",
        "    x = self.fc3(x)\n",
        "\n",
        "    return x"
      ],
      "metadata": {
        "id": "N2Kf9yStuvja"
      },
      "execution_count": 4,
      "outputs": []
    }
  ]
}